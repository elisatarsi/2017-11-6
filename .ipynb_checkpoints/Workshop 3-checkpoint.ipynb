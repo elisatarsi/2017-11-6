{
 "cells": [
  {
   "cell_type": "markdown",
   "metadata": {
    "collapsed": true
   },
   "source": [
    "WORKSHOP 3\n",
    "=========="
   ]
  },
  {
   "cell_type": "markdown",
   "metadata": {},
   "source": [
    "### Chiesa Leonardo Da Vinci"
   ]
  },
  {
   "cell_type": "markdown",
   "metadata": {},
   "source": [
    "![\"Workshop3-0\"](Workshop3-0.png)"
   ]
  },
  {
   "cell_type": "code",
   "execution_count": 1,
   "metadata": {},
   "outputs": [
    {
     "name": "stdout",
     "output_type": "stream",
     "text": [
      "Evaluating fenvs.py..\n",
      "...fenvs.py imported in 0.012811 seconds\n"
     ]
    }
   ],
   "source": [
    "from larlib import*\n",
    "from pyplasm import*"
   ]
  },
  {
   "cell_type": "code",
   "execution_count": 2,
   "metadata": {
    "collapsed": true
   },
   "outputs": [],
   "source": [
    "def base(altezza,larghezza):      #creo la base della Chiesa\n",
    "    RettangoloGrande=CUBOID([larghezza*7,larghezza*3,altezza*0.04])\n",
    "    Medio=T([1,2])([larghezza,larghezza*3])(CUBOID([larghezza*5,larghezza,altezza*0.04]))\n",
    "    RettangoloMedio=STRUCT(NN(2)([Medio,T(2)(larghezza*(-4))]))\n",
    "    Piccolo=T([1,2])([larghezza*2,larghezza*4])(CUBOID([larghezza*3,larghezza,altezza*0.04]))\n",
    "    RettangoloPiccolo=STRUCT(NN(2)([Piccolo,T(2)(larghezza*(-6))]))\n",
    "    return STRUCT([RettangoloGrande,RettangoloMedio,RettangoloPiccolo])\n",
    "\n",
    "\n",
    "def struttura(altezza,larghezza,raggio,sfaccettature): #Creo la struttura completa di parti laterali e cupole \n",
    "    Struct1=CUBOID([larghezza*4,larghezza*4,altezza*1.5])\n",
    "    BaseAlta=T([1,2,3])([-1,-1,altezza*1.53])(CUBOID([larghezza*4+2,larghezza*4+2,altezza*0.05]))\n",
    "    BaseMedia=T([1,2,3])([-0.5,-0.5,altezza*1.5])(CUBOID([larghezza*4+1,larghezza*4+1,altezza*0.03]))\n",
    "    lat=T([1,2])([larghezza*1.5,-(larghezza-3)])(CUBOID([larghezza,larghezza,altezza]))\n",
    "    BaseMediaLat=T([1,2,3])([larghezza*1.45,-(larghezza-2.5),altezza])(CUBOID([larghezza+1,larghezza+1,altezza*0.03]))\n",
    "    BaseAltaLat=T([1,2,3])([larghezza*1.4,-(larghezza-2),altezza+0.3])(CUBOID([larghezza+2,larghezza+2,altezza*0.05]))\n",
    "    cupolina=CupolaCompleta(altezza*0.7,larghezza/2,raggio*0.7,sfaccettature)\n",
    "    blocco=T([1,2,3])([larghezza*1.5+0.5,-(larghezza-3.4),altezza+0.8])(CUBOID([larghezza-1,larghezza-1,altezza*0.08]))\n",
    "    cupoleAlte=CupolaCompleta(altezza+1.5,larghezza*3,raggio*0.5,sfaccettature)\n",
    "    CupoleA=T([1,2])([larghezza*1.5,-larghezza*0.2])(cupoleAlte)\n",
    "    CupoleV=STRUCT(NN(2)([CupoleA,T(1)(larghezza)]))\n",
    "    CupoleO=STRUCT(NN(2)([CupoleV,R([1,2])(PI/2),T([1,2])([-larghezza*2.2,-larghezza*1.8])]))\n",
    "    laterali=STRUCT([lat,BaseMediaLat,BaseAltaLat,T([1,2,3])([larghezza*2,-(larghezza)*0.2,altezza+1.6])(cupolina),blocco,CupoleO,CupoleV])\n",
    "    lateraliCompleti=T(2)(larghezza*0.2)(laterali)\n",
    "    laterali1=STRUCT(NN(2)([lateraliCompleti,T(2)(larghezza*4)]))\n",
    "    lateraliCompleti2=STRUCT(NN(2)([laterali1,R([1,2])(PI/2),T([1,2])([-larghezza*0.1,-larghezza*4])]))\n",
    "    return STRUCT([lateraliCompleti2,Struct1,BaseAlta,BaseMedia])\n",
    "\n",
    "\n",
    "def cilindro(altezza,larghezza):\n",
    "    return JOIN(CYLINDER([altezza,larghezza])(8))\n",
    "\n",
    "def cupola(raggio,sfaccettature):\n",
    "    sfera=JOIN(SPHERE(raggio)([sfaccettature,8]))\n",
    "    cubo=T([1,2])([-raggio,-raggio])(CUBOID([raggio*2,raggio*2,raggio*2]))\n",
    "    cup=INTERSECTION([cubo,sfera])\n",
    "    return cup\n",
    "\n",
    "def CupolaCompleta(altezza,larghezza,raggio,sfaccettature): #creo le cupole da posizionare sopra la base\n",
    "    partesuperiore=cupola(raggio,sfaccettature)\n",
    "    baseInferiore=cilindro(raggio,altezza/2)\n",
    "    baseMediana=cilindro(raggio+0.5,altezza/10)\n",
    "    return TOP([TOP([(baseInferiore),(baseMediana)]),(partesuperiore)])\n",
    "\n",
    "def puntale(larghezza):\n",
    "    basePiccola=CUBOID([larghezza*0.15,larghezza*0.15,larghezza*0.03])\n",
    "    baseGrande=T([1,2,3])([larghezza*0.02,larghezza*0.02,larghezza*0.03])(CUBOID([larghezza*0.11,larghezza*0.11,larghezza*0.17]))\n",
    "    basePiccola2=STRUCT(NN(2)([basePiccola,T(3)(larghezza*0.2)]))\n",
    "    punta= T([1,2,3])([larghezza*0.075,larghezza*0.075,larghezza*0.23])(CONE([larghezza*0.07,larghezza*0.2])(20))\n",
    "    return STRUCT([basePiccola2,baseGrande,punta])\n",
    "\n",
    "\n",
    "def Chiesa(altezza,larghezza,raggio,sfaccettature):\n",
    "    stru=struttura(altezza,larghezza,raggio,sfaccettature)\n",
    "    cupol=CupolaCompleta(altezza,larghezza,raggio,sfaccettature)\n",
    "    ba=base(altezza,larghezza)\n",
    "    pun=puntale(larghezza)\n",
    "    return STRUCT([T([1,2,3])([larghezza*1.5,larghezza*(-0.5),altezza*0.04])(stru),T([1,2,3])([larghezza*2.1,altezza*0.1,altezza*1.57])(cupol),T([1,2,3])([larghezza*4.9,altezza*0.1,altezza*1.57])(cupol),T([1,2,3])([larghezza*2.1,larghezza*2.9,altezza*1.57])(cupol),T([1,2,3])([larghezza*4.9,larghezza*2.9,altezza*1.57])(cupol),ba,T([1,2,3])([larghezza*3.5,larghezza*1.5,altezza*1.5]),S([1,2,3])([larghezza*0.18+0.3,larghezza*0.18+0.3,larghezza*0.18+0.3])(cupol),T([1,2,3])([altezza*(-0.075),altezza*(-0.075),altezza*2+3])(pun)])\n",
    "\n",
    "#per la proporzione si consiglia di inserire altezza=10, larghezza=10, raggio=5, sfaccettature=10\n"
   ]
  },
  {
   "cell_type": "code",
   "execution_count": 3,
   "metadata": {},
   "outputs": [
    {
     "data": {
      "text/plain": [
       "<pyplasm.xgepy.Hpc; proxy of <Swig Object of type 'std::shared_ptr< Hpc > *' at 0x181d8fef60> >"
      ]
     },
     "execution_count": 3,
     "metadata": {},
     "output_type": "execute_result"
    }
   ],
   "source": [
    "VIEW(base(10,10))"
   ]
  },
  {
   "cell_type": "markdown",
   "metadata": {},
   "source": [
    "![\"Workshop3-1\"](Workshop3-1.png)"
   ]
  },
  {
   "cell_type": "code",
   "execution_count": 4,
   "metadata": {},
   "outputs": [
    {
     "name": "stdout",
     "output_type": "stream",
     "text": [
      "Child 3\n",
      "Child 3\n"
     ]
    },
    {
     "data": {
      "text/plain": [
       "<pyplasm.xgepy.Hpc; proxy of <Swig Object of type 'std::shared_ptr< Hpc > *' at 0x181d8ed0c0> >"
      ]
     },
     "execution_count": 4,
     "metadata": {},
     "output_type": "execute_result"
    }
   ],
   "source": [
    "VIEW(struttura(10,10,5,10))"
   ]
  },
  {
   "cell_type": "markdown",
   "metadata": {},
   "source": [
    "![\"Workshop3-2\"](Workshop3-2.png)"
   ]
  },
  {
   "cell_type": "code",
   "execution_count": 5,
   "metadata": {},
   "outputs": [
    {
     "name": "stdout",
     "output_type": "stream",
     "text": [
      "Child 3\n"
     ]
    },
    {
     "data": {
      "text/plain": [
       "<pyplasm.xgepy.Hpc; proxy of <Swig Object of type 'std::shared_ptr< Hpc > *' at 0x181d8fefc0> >"
      ]
     },
     "execution_count": 5,
     "metadata": {},
     "output_type": "execute_result"
    }
   ],
   "source": [
    "VIEW(CupolaCompleta(10,10,5,10))"
   ]
  },
  {
   "cell_type": "markdown",
   "metadata": {},
   "source": [
    "![\"Workshop3-3\"](Workshop3-3.png)"
   ]
  },
  {
   "cell_type": "code",
   "execution_count": 6,
   "metadata": {},
   "outputs": [
    {
     "name": "stdout",
     "output_type": "stream",
     "text": [
      "Child 3\n",
      "Child 3\n",
      "Child 3\n"
     ]
    },
    {
     "data": {
      "text/plain": [
       "<pyplasm.xgepy.Hpc; proxy of <Swig Object of type 'std::shared_ptr< Hpc > *' at 0x10be80f90> >"
      ]
     },
     "execution_count": 6,
     "metadata": {},
     "output_type": "execute_result"
    }
   ],
   "source": [
    "VIEW(Chiesa(10,10,5,10))"
   ]
  },
  {
   "cell_type": "markdown",
   "metadata": {},
   "source": [
    "![\"Workshop3-4\"](Workshop3-4.png)"
   ]
  },
  {
   "cell_type": "code",
   "execution_count": null,
   "metadata": {
    "collapsed": true
   },
   "outputs": [],
   "source": []
  }
 ],
 "metadata": {
  "kernelspec": {
   "display_name": "Python 2",
   "language": "python",
   "name": "python2"
  },
  "language_info": {
   "codemirror_mode": {
    "name": "ipython",
    "version": 2
   },
   "file_extension": ".py",
   "mimetype": "text/x-python",
   "name": "python",
   "nbconvert_exporter": "python",
   "pygments_lexer": "ipython2",
   "version": "2.7.13"
  }
 },
 "nbformat": 4,
 "nbformat_minor": 2
}
